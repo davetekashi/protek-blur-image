{
  "nbformat": 4,
  "nbformat_minor": 0,
  "metadata": {
    "colab": {
      "provenance": [],
      "collapsed_sections": []
    },
    "kernelspec": {
      "name": "python3",
      "display_name": "Python 3"
    },
    "language_info": {
      "name": "python"
    }
  },
  "cells": [
    {
      "cell_type": "code",
      "source": [
        "! pip install tqdm update_checker tqdm\n",
        "! pip install tpot\n",
        "import matplotlib\n",
        "import matplotlib.pyplot as plt\n",
        "import pandas as pd\n",
        "import numpy as np\n",
        "import seaborn as sns\n",
        "import sklearn\n",
        "import imblearn\n",
        "from sklearn.preprocessing import StandardScaler, MinMaxScaler\n",
        "from sklearn.preprocessing import LabelEncoder, MultiLabelBinarizer, LabelBinarizer\n",
        "from sklearn.ensemble import RandomForestClassifier\n",
        "from sklearn.feature_selection import RFE\n",
        "import itertools\n",
        "from sklearn.model_selection import train_test_split\n",
        "from tpot import TPOTRegressor\n",
        "from sklearn.metrics import classification_report, confusion_matrix, accuracy_score, roc_auc_score, roc_curve\n",
        "from sklearn.neighbors import KNeighborsClassifier\n",
        "from sklearn.tree import DecisionTreeClassifier\n",
        "from sklearn.manifold import LocallyLinearEmbedding\n",
        "from sklearn.decomposition import FastICA\n",
        "from sklearn.svm import SVC\n",
        "from sklearn.cross_decomposition import PLSRegression\n",
        "from sklearn.manifold import MDS\n",
        "import os\n",
        "from PIL import Image\n",
        "from PIL import UnidentifiedImageError\n",
        "import keras"
      ],
      "metadata": {
        "id": "TrkuvYGILUmK",
        "colab": {
          "base_uri": "https://localhost:8080/"
        },
        "outputId": "f4e6d29f-a640-40a2-f805-108c3a320fe5"
      },
      "execution_count": 1,
      "outputs": [
        {
          "output_type": "stream",
          "name": "stdout",
          "text": [
            "Looking in indexes: https://pypi.org/simple, https://us-python.pkg.dev/colab-wheels/public/simple/\n",
            "Requirement already satisfied: tqdm in /usr/local/lib/python3.7/dist-packages (4.64.1)\n",
            "Collecting update_checker\n",
            "  Downloading update_checker-0.18.0-py3-none-any.whl (7.0 kB)\n",
            "Requirement already satisfied: requests>=2.3.0 in /usr/local/lib/python3.7/dist-packages (from update_checker) (2.23.0)\n",
            "Requirement already satisfied: certifi>=2017.4.17 in /usr/local/lib/python3.7/dist-packages (from requests>=2.3.0->update_checker) (2022.6.15)\n",
            "Requirement already satisfied: chardet<4,>=3.0.2 in /usr/local/lib/python3.7/dist-packages (from requests>=2.3.0->update_checker) (3.0.4)\n",
            "Requirement already satisfied: urllib3!=1.25.0,!=1.25.1,<1.26,>=1.21.1 in /usr/local/lib/python3.7/dist-packages (from requests>=2.3.0->update_checker) (1.24.3)\n",
            "Requirement already satisfied: idna<3,>=2.5 in /usr/local/lib/python3.7/dist-packages (from requests>=2.3.0->update_checker) (2.10)\n",
            "Installing collected packages: update-checker\n",
            "Successfully installed update-checker-0.18.0\n",
            "Looking in indexes: https://pypi.org/simple, https://us-python.pkg.dev/colab-wheels/public/simple/\n",
            "Collecting tpot\n",
            "  Downloading TPOT-0.11.7-py3-none-any.whl (87 kB)\n",
            "\u001b[K     |████████████████████████████████| 87 kB 2.0 MB/s \n",
            "\u001b[?25hCollecting stopit>=1.1.1\n",
            "  Downloading stopit-1.1.2.tar.gz (18 kB)\n",
            "Collecting deap>=1.2\n",
            "  Downloading deap-1.3.3-cp37-cp37m-manylinux_2_5_x86_64.manylinux1_x86_64.manylinux_2_17_x86_64.manylinux2014_x86_64.whl (139 kB)\n",
            "\u001b[K     |████████████████████████████████| 139 kB 10.9 MB/s \n",
            "\u001b[?25hRequirement already satisfied: pandas>=0.24.2 in /usr/local/lib/python3.7/dist-packages (from tpot) (1.3.5)\n",
            "Requirement already satisfied: numpy>=1.16.3 in /usr/local/lib/python3.7/dist-packages (from tpot) (1.21.6)\n",
            "Requirement already satisfied: scipy>=1.3.1 in /usr/local/lib/python3.7/dist-packages (from tpot) (1.7.3)\n",
            "Requirement already satisfied: update-checker>=0.16 in /usr/local/lib/python3.7/dist-packages (from tpot) (0.18.0)\n",
            "Collecting xgboost>=1.1.0\n",
            "  Downloading xgboost-1.6.2-py3-none-manylinux2014_x86_64.whl (255.9 MB)\n",
            "\u001b[K     |████████████████████████████████| 255.9 MB 47 kB/s \n",
            "\u001b[?25hRequirement already satisfied: joblib>=0.13.2 in /usr/local/lib/python3.7/dist-packages (from tpot) (1.1.0)\n",
            "Requirement already satisfied: tqdm>=4.36.1 in /usr/local/lib/python3.7/dist-packages (from tpot) (4.64.1)\n",
            "Requirement already satisfied: scikit-learn>=0.22.0 in /usr/local/lib/python3.7/dist-packages (from tpot) (1.0.2)\n",
            "Requirement already satisfied: python-dateutil>=2.7.3 in /usr/local/lib/python3.7/dist-packages (from pandas>=0.24.2->tpot) (2.8.2)\n",
            "Requirement already satisfied: pytz>=2017.3 in /usr/local/lib/python3.7/dist-packages (from pandas>=0.24.2->tpot) (2022.2.1)\n",
            "Requirement already satisfied: six>=1.5 in /usr/local/lib/python3.7/dist-packages (from python-dateutil>=2.7.3->pandas>=0.24.2->tpot) (1.15.0)\n",
            "Requirement already satisfied: threadpoolctl>=2.0.0 in /usr/local/lib/python3.7/dist-packages (from scikit-learn>=0.22.0->tpot) (3.1.0)\n",
            "Requirement already satisfied: requests>=2.3.0 in /usr/local/lib/python3.7/dist-packages (from update-checker>=0.16->tpot) (2.23.0)\n",
            "Requirement already satisfied: urllib3!=1.25.0,!=1.25.1,<1.26,>=1.21.1 in /usr/local/lib/python3.7/dist-packages (from requests>=2.3.0->update-checker>=0.16->tpot) (1.24.3)\n",
            "Requirement already satisfied: certifi>=2017.4.17 in /usr/local/lib/python3.7/dist-packages (from requests>=2.3.0->update-checker>=0.16->tpot) (2022.6.15)\n",
            "Requirement already satisfied: idna<3,>=2.5 in /usr/local/lib/python3.7/dist-packages (from requests>=2.3.0->update-checker>=0.16->tpot) (2.10)\n",
            "Requirement already satisfied: chardet<4,>=3.0.2 in /usr/local/lib/python3.7/dist-packages (from requests>=2.3.0->update-checker>=0.16->tpot) (3.0.4)\n",
            "Building wheels for collected packages: stopit\n",
            "  Building wheel for stopit (setup.py) ... \u001b[?25l\u001b[?25hdone\n",
            "  Created wheel for stopit: filename=stopit-1.1.2-py3-none-any.whl size=11956 sha256=5bf8a67c567c198a3e10d7867841483d0279eecb20f53016a1c739f9f302dd2f\n",
            "  Stored in directory: /root/.cache/pip/wheels/e2/d2/79/eaf81edb391e27c87f51b8ef901ecc85a5363dc96b8b8d71e3\n",
            "Successfully built stopit\n",
            "Installing collected packages: xgboost, stopit, deap, tpot\n",
            "  Attempting uninstall: xgboost\n",
            "    Found existing installation: xgboost 0.90\n",
            "    Uninstalling xgboost-0.90:\n",
            "      Successfully uninstalled xgboost-0.90\n",
            "Successfully installed deap-1.3.3 stopit-1.1.2 tpot-0.11.7 xgboost-1.6.2\n"
          ]
        }
      ]
    },
    {
      "cell_type": "code",
      "source": [],
      "metadata": {
        "id": "pVdfuxAOLSqz"
      },
      "execution_count": null,
      "outputs": []
    },
    {
      "cell_type": "code",
      "source": [
        "#===============importing the dataset from the directory========================#\n",
        "horizonal_mb = os.listdir(r'/content/drive/MyDrive/images/horizonal_mb')\n",
        "resizeimage = os.listdir(r'/content/drive/MyDrive/images/resizeimage')\n",
        "vertical_mb = os.listdir(r'/content/drive/MyDrive/images/vertical_mb')\n",
        "horizonal_mb"
      ],
      "metadata": {
        "colab": {
          "base_uri": "https://localhost:8080/"
        },
        "id": "R7QwhKqodF1F",
        "outputId": "df7e41b7-1af7-493a-a315-b70da52ba833"
      },
      "execution_count": 2,
      "outputs": [
        {
          "output_type": "execute_result",
          "data": {
            "text/plain": [
              "['120.jpg',\n",
              " '112.jpg',\n",
              " '115.jpg',\n",
              " '123.jpg',\n",
              " '124.jpg',\n",
              " '130.jpg',\n",
              " '135.jpg',\n",
              " '101.jpg',\n",
              " '105.jpg',\n",
              " '106.jpg',\n",
              " '133.jpg',\n",
              " '134.jpg',\n",
              " '109.jpg',\n",
              " '104.jpg',\n",
              " '125.jpg',\n",
              " '122.jpg',\n",
              " '111.jpg',\n",
              " '1.jpg',\n",
              " '13.jpg',\n",
              " '100.jpg',\n",
              " '137.jpg',\n",
              " '110.jpg',\n",
              " '121.jpg',\n",
              " '138.jpg',\n",
              " '102.jpg',\n",
              " '11.jpg',\n",
              " '12.jpg',\n",
              " '10.jpg',\n",
              " '113.jpg',\n",
              " '103.jpg',\n",
              " '116.jpg',\n",
              " '119.jpg',\n",
              " '114.jpg',\n",
              " '132.jpg',\n",
              " '128.jpg',\n",
              " '136.jpg',\n",
              " '0.jpg',\n",
              " '127.jpg',\n",
              " '107.jpg',\n",
              " '126.jpg',\n",
              " '108.jpg',\n",
              " '131.jpg',\n",
              " '118.jpg',\n",
              " '117.jpg',\n",
              " '129.jpg',\n",
              " '157.jpg',\n",
              " '150.jpg',\n",
              " '14.jpg',\n",
              " '153.jpg',\n",
              " '159.jpg',\n",
              " '144.jpg',\n",
              " '151.jpg',\n",
              " '16.jpg',\n",
              " '155.jpg',\n",
              " '161.jpg',\n",
              " '156.jpg',\n",
              " '158.jpg',\n",
              " '160.jpg',\n",
              " '143.jpg',\n",
              " '140.jpg',\n",
              " '141.jpg',\n",
              " '15.jpg',\n",
              " '154.jpg',\n",
              " '146.jpg',\n",
              " '142.jpg',\n",
              " '145.jpg',\n",
              " '162.jpg',\n",
              " '152.jpg',\n",
              " '149.jpg',\n",
              " '139.jpg',\n",
              " '148.jpg',\n",
              " '163.jpg',\n",
              " '147.jpg',\n",
              " '27.jpg',\n",
              " '165.jpg',\n",
              " '33.jpg',\n",
              " '168.jpg',\n",
              " '174.jpg',\n",
              " '30.jpg',\n",
              " '184.jpg',\n",
              " '21.jpg',\n",
              " '172.jpg',\n",
              " '3.jpg',\n",
              " '179.jpg',\n",
              " '177.jpg',\n",
              " '169.jpg',\n",
              " '23.jpg',\n",
              " '183.jpg',\n",
              " '173.jpg',\n",
              " '181.jpg',\n",
              " '24.jpg',\n",
              " '164.jpg',\n",
              " '32.jpg',\n",
              " '25.jpg',\n",
              " '182.jpg',\n",
              " '180.jpg',\n",
              " '178.jpg',\n",
              " '166.jpg',\n",
              " '19.jpg',\n",
              " '29.jpg',\n",
              " '18.jpg',\n",
              " '26.jpg',\n",
              " '175.jpg',\n",
              " '17.jpg',\n",
              " '22.jpg',\n",
              " '31.jpg',\n",
              " '20.jpg',\n",
              " '28.jpg',\n",
              " '167.jpg',\n",
              " '171.jpg',\n",
              " '2.jpg',\n",
              " '170.jpg',\n",
              " '176.jpg',\n",
              " '57.jpg',\n",
              " '35.jpg',\n",
              " '61.jpg',\n",
              " '45.jpg',\n",
              " '44.jpg',\n",
              " '53.jpg',\n",
              " '48.jpg',\n",
              " '66.jpg',\n",
              " '68.jpg',\n",
              " '58.jpg',\n",
              " '64.jpg',\n",
              " '49.jpg',\n",
              " '5.jpg',\n",
              " '36.jpg',\n",
              " '51.jpg',\n",
              " '6.jpg',\n",
              " '40.jpg',\n",
              " '50.jpg',\n",
              " '46.jpg',\n",
              " '39.jpg',\n",
              " '56.jpg',\n",
              " '55.jpg',\n",
              " '67.jpg',\n",
              " '52.jpg',\n",
              " '60.jpg',\n",
              " '47.jpg',\n",
              " '43.jpg',\n",
              " '65.jpg',\n",
              " '34.jpg',\n",
              " '63.jpg',\n",
              " '59.jpg',\n",
              " '4.jpg',\n",
              " '37.jpg',\n",
              " '42.jpg',\n",
              " '38.jpg',\n",
              " '62.jpg',\n",
              " '54.jpg',\n",
              " '41.jpg',\n",
              " '87.jpg',\n",
              " '74.jpg',\n",
              " '86.jpg',\n",
              " '92.jpg',\n",
              " '70.jpg',\n",
              " '98.jpg',\n",
              " '99.jpg',\n",
              " '83.jpg',\n",
              " '89.jpg',\n",
              " '77.jpg',\n",
              " '80.jpg',\n",
              " '84.jpg',\n",
              " '91.jpg',\n",
              " '76.jpg',\n",
              " '85.jpg',\n",
              " '88.jpg',\n",
              " '96.jpg',\n",
              " '94.jpg',\n",
              " '71.jpg',\n",
              " '95.jpg',\n",
              " '78.jpg',\n",
              " '73.jpg',\n",
              " '82.jpg',\n",
              " '69.jpg',\n",
              " '93.jpg',\n",
              " '79.jpg',\n",
              " '81.jpg',\n",
              " '72.jpg',\n",
              " '90.jpg',\n",
              " '8.jpg',\n",
              " '97.jpg',\n",
              " '9.jpg',\n",
              " '75.jpg',\n",
              " '7.jpg']"
            ]
          },
          "metadata": {},
          "execution_count": 2
        }
      ]
    },
    {
      "cell_type": "code",
      "source": [
        "img_w, img_h = 225, 225 #setting the image width and height for easy processing\n",
        "X = []\n",
        "y = []\n",
        "\n",
        "for i in horizonal_mb:\n",
        "    try:\n",
        "        img = Image.open(\"/content/drive/MyDrive/images/horizonal_mb/\" + i).convert('RGB')\n",
        "        img = img.resize((img_w,img_h))\n",
        "        X.append(np.asarray(img))\n",
        "        y.append(0)\n",
        "    except UnidentifiedImageError: # it passes an image that wasn't correctly identified\n",
        "        pass\n",
        "    \n",
        "for i in resizeimage:\n",
        "    try:\n",
        "        img = Image.open(\"/content/drive/MyDrive/images/resizeimage/\" + i).convert('RGB')\n",
        "        img = img.resize((img_w,img_h))\n",
        "        X.append(np.asarray(img))\n",
        "        y.append(1)\n",
        "    except UnidentifiedImageError:\n",
        "        pass\n",
        "    \n",
        "for i in vertical_mb:\n",
        "    try:\n",
        "        img = Image.open(\"/content/drive/MyDrive/images/vertical_mb/\" + i).convert('RGB')\n",
        "        img = img.resize((img_w,img_h))\n",
        "        X.append(np.asarray(img))\n",
        "        y.append(1)\n",
        "    except UnidentifiedImageError:\n",
        "        pass\n",
        "\n",
        "\n",
        "X = np.asarray(X)\n",
        "y = np.asarray(y)\n",
        "print(X.shape, y.shape)\n",
        "\n",
        "# I resized each image to our manually defined width and height(img_w, img_h)\n",
        "# I also changed the images to an array"
      ],
      "metadata": {
        "colab": {
          "base_uri": "https://localhost:8080/"
        },
        "id": "qQL2JqrOLh-A",
        "outputId": "cf102ac1-a8fa-42f0-ff21-da0050d59cf9"
      },
      "execution_count": 3,
      "outputs": [
        {
          "output_type": "stream",
          "name": "stdout",
          "text": [
            "(555, 225, 225, 3) (555,)\n"
          ]
        }
      ]
    },
    {
      "cell_type": "code",
      "source": [
        "from tensorflow import keras\n",
        "x = X.astype('float32')\n",
        "x /= 255\n",
        "\n",
        "#scaler = MinMaxScaler()\n",
        "#x = scaler.fit_transform(x)\n",
        "\n",
        "num_classes = 3\n",
        "\n",
        "labels = keras.utils.to_categorical(y, num_classes)\n",
        "print(labels[0])"
      ],
      "metadata": {
        "colab": {
          "base_uri": "https://localhost:8080/"
        },
        "id": "8WFQ02GmLsH0",
        "outputId": "3accd387-32ca-42cc-85d9-2b52f60acbc6"
      },
      "execution_count": 4,
      "outputs": [
        {
          "output_type": "stream",
          "name": "stdout",
          "text": [
            "[1. 0. 0.]\n"
          ]
        }
      ]
    },
    {
      "cell_type": "code",
      "source": [
        "import csv\n",
        "img_file = pd.concat([x, y], axis=1)\n",
        "# Make image Greyscale\n",
        "\n",
        "img_grey = img_file.convert('L')\n",
        "\n",
        "#img_grey.save('result.png')\n",
        "\n",
        "#img_grey.show()\n",
        "\n",
        "# Save Greyscale values\n",
        "\n",
        "value = np.asarray(img_grey.getdata(), dtype=http://np.int).reshape((img_grey.size[1], img_grey.size[0]))\n",
        "\n",
        "value = value.flatten()\n",
        "\n",
        "print(value)\n",
        "\n",
        "with open(\"img_pixels.csv\", 'a') as f:\n",
        "\n",
        "   writer = csv.writer(f)\n",
        "\n",
        "   writer.writerow(value)"
      ],
      "metadata": {
        "id": "g1K9K8izM2q9"
      },
      "execution_count": null,
      "outputs": []
    },
    {
      "cell_type": "code",
      "source": [
        "scaler = StandardScaler()\n",
        "x_sc = scaler.fit_transform(x)"
      ],
      "metadata": {
        "id": "l0C6FOw2dLzX"
      },
      "execution_count": null,
      "outputs": []
    },
    {
      "cell_type": "code",
      "source": [
        "lle = MDS(n_components = 8)\n",
        "x_sc_lle = lle.fit_transform(x_sc)"
      ],
      "metadata": {
        "id": "h0zssIrKeGWa"
      },
      "execution_count": null,
      "outputs": []
    },
    {
      "cell_type": "code",
      "source": [
        "X_train,X_test,Y_train,Y_test = train_test_split(x_sc_lle, y, train_size=0.70, random_state=2)\n",
        "input_shape = [X_train.shape[1]]"
      ],
      "metadata": {
        "id": "BUL0X36jdpxi"
      },
      "execution_count": null,
      "outputs": []
    },
    {
      "cell_type": "code",
      "source": [
        "model_svm = SVC(random_state=1)\n",
        "model_svm.fit(X_train, Y_train)\n",
        "y_pred_svm = model_svm.predict(X_test)\n",
        "print(classification_report(Y_test, y_pred_svm))"
      ],
      "metadata": {
        "colab": {
          "base_uri": "https://localhost:8080/"
        },
        "id": "iMe6j-9mdyWb",
        "outputId": "501c8a78-3eb7-49ba-8c42-bceea506ed06"
      },
      "execution_count": null,
      "outputs": [
        {
          "output_type": "stream",
          "name": "stdout",
          "text": [
            "              precision    recall  f1-score   support\n",
            "\n",
            "           0       0.90      0.90      0.90       164\n",
            "           1       0.89      0.89      0.89       144\n",
            "\n",
            "    accuracy                           0.90       308\n",
            "   macro avg       0.90      0.90      0.90       308\n",
            "weighted avg       0.90      0.90      0.90       308\n",
            "\n"
          ]
        }
      ]
    },
    {
      "cell_type": "code",
      "source": [
        "#===========================CONSTRUCTING THE CONFUSION MATRIX=============================#\n",
        "def plot_confusion_matrix(cm, classes, normalize=True, title='Confusion matrix', cmap=plt.cm.Reds):\n",
        "    \n",
        "    plt.figure(figsize=(10,10))\n",
        "    plt.imshow(cm, interpolation='nearest', cmap=cmap)\n",
        "    plt.title(title)\n",
        "    plt.colorbar()\n",
        "    tick_marks = np.arange(len(classes))\n",
        "    plt.xticks(tick_marks, classes, rotation=45)\n",
        "    plt.yticks(tick_marks, classes)\n",
        "    if normalize:\n",
        "        cm = cm.astype('float') / cm.sum(axis=1)[:, np.newaxis]\n",
        "        cm = np.around(cm, decimals=2)\n",
        "        cm[np.isnan(cm)] = 0.0\n",
        "    thresh = cm.max() / 2.\n",
        "    for i, j in itertools.product(range(cm.shape[0]), range(cm.shape[1])):\n",
        "        plt.text(j, i, cm[i, j],\n",
        "                 horizontalalignment=\"center\",\n",
        "                 color=\"white\" if cm[i, j] > thresh else \"black\")\n",
        "    plt.tight_layout()\n",
        "    plt.ylabel('True label')\n",
        "    plt.xlabel('Predicted label')\n",
        "cm = confusion_matrix(Y_test, y_pred_svm)\n",
        "target_names = [\"Human Detected\", \"Human Not Detected\"]\n",
        "plot_confusion_matrix(cm, target_names, normalize=False, title='Confusion Matrix')\n",
        "accuracy_score(Y_test, y_pred_svm)"
      ],
      "metadata": {
        "colab": {
          "base_uri": "https://localhost:8080/",
          "height": 714
        },
        "id": "n9MkqoCGd24N",
        "outputId": "1a75cc48-0534-40ba-beb7-7429328da876"
      },
      "execution_count": null,
      "outputs": [
        {
          "output_type": "execute_result",
          "data": {
            "text/plain": [
              "0.8961038961038961"
            ]
          },
          "metadata": {},
          "execution_count": 23
        },
        {
          "output_type": "display_data",
          "data": {
            "text/plain": [
              "<Figure size 720x720 with 2 Axes>"
            ],
            "image/png": "[encoded data removed]"
          },
          "metadata": {
            "needs_background": "light"
          }
        }
      ]
    },
    {
      "cell_type": "code",
      "source": [
        "#KNN model\n",
        "\n",
        "model_KNN = KNeighborsClassifier()\n",
        "model_KNN.fit(X_train, Y_train)\n",
        "y_pred_KNN = model_KNN.predict(X_test)\n",
        "print(classification_report(Y_test, y_pred_KNN))"
      ],
      "metadata": {
        "colab": {
          "base_uri": "https://localhost:8080/"
        },
        "id": "ssJnTYRlt2-C",
        "outputId": "f5b66c2b-fe58-4251-d731-8ca531456edc"
      },
      "execution_count": null,
      "outputs": [
        {
          "output_type": "stream",
          "name": "stdout",
          "text": [
            "              precision    recall  f1-score   support\n",
            "\n",
            "           0       0.81      0.77      0.79       164\n",
            "           1       0.76      0.80      0.78       144\n",
            "\n",
            "    accuracy                           0.79       308\n",
            "   macro avg       0.79      0.79      0.79       308\n",
            "weighted avg       0.79      0.79      0.79       308\n",
            "\n"
          ]
        }
      ]
    },
    {
      "cell_type": "code",
      "source": [
        "#===========================CONSTRUCTING THE CONFUSION MATRIX=============================#\n",
        "def plot_confusion_matrix(cm, classes, normalize=True, title='Confusion matrix', cmap=plt.cm.Greens):\n",
        "    \n",
        "    plt.figure(figsize=(10,10))\n",
        "    plt.imshow(cm, interpolation='nearest', cmap=cmap)\n",
        "    plt.title(title)\n",
        "    plt.colorbar()\n",
        "    tick_marks = np.arange(len(classes))\n",
        "    plt.xticks(tick_marks, classes, rotation=45)\n",
        "    plt.yticks(tick_marks, classes)\n",
        "    if normalize:\n",
        "        cm = cm.astype('float') / cm.sum(axis=1)[:, np.newaxis]\n",
        "        cm = np.around(cm, decimals=2)\n",
        "        cm[np.isnan(cm)] = 0.0\n",
        "    thresh = cm.max() / 2.\n",
        "    for i, j in itertools.product(range(cm.shape[0]), range(cm.shape[1])):\n",
        "        plt.text(j, i, cm[i, j],\n",
        "                 horizontalalignment=\"center\",\n",
        "                 color=\"white\" if cm[i, j] > thresh else \"black\")\n",
        "    plt.tight_layout()\n",
        "    plt.ylabel('True label')\n",
        "    plt.xlabel('Predicted label')\n",
        "cm = confusion_matrix(Y_test, y_pred_KNN)\n",
        "target_names = [\"Human Detected\", \"Human Not Detected\"]\n",
        "plot_confusion_matrix(cm, target_names, normalize=False, title='Confusion Matrix')\n",
        "accuracy_score(Y_test, y_pred_KNN)"
      ],
      "metadata": {
        "colab": {
          "base_uri": "https://localhost:8080/",
          "height": 714
        },
        "id": "7YrmCLdMt9BG",
        "outputId": "4a03d971-a31b-41df-8c18-e416a385e064"
      },
      "execution_count": null,
      "outputs": [
        {
          "output_type": "execute_result",
          "data": {
            "text/plain": [
              "0.7857142857142857"
            ]
          },
          "metadata": {},
          "execution_count": 25
        },
        {
          "output_type": "display_data",
          "data": {
            "text/plain": [
              "<Figure size 720x720 with 2 Axes>"
            ],
            "image/png": "[encoded data removed]"
          },
          "metadata": {
            "needs_background": "light"
          }
        }
      ]
    },
    {
      "cell_type": "code",
      "source": [
        "#RandomForestClassifier(ensemble) model\n",
        "\n",
        "model_RFC = RandomForestClassifier(random_state = 1)\n",
        "model_RFC.fit(X_train, Y_train)\n",
        "y_pred_RFC = model_RFC.predict(X_test)\n",
        "print(classification_report(Y_test, y_pred_RFC))"
      ],
      "metadata": {
        "colab": {
          "base_uri": "https://localhost:8080/"
        },
        "id": "2p4AgWchuH_2",
        "outputId": "71388000-149f-4be3-9dee-915a62406da7"
      },
      "execution_count": null,
      "outputs": [
        {
          "output_type": "stream",
          "name": "stdout",
          "text": [
            "              precision    recall  f1-score   support\n",
            "\n",
            "           0       0.98      0.96      0.97       164\n",
            "           1       0.95      0.98      0.97       144\n",
            "\n",
            "    accuracy                           0.97       308\n",
            "   macro avg       0.97      0.97      0.97       308\n",
            "weighted avg       0.97      0.97      0.97       308\n",
            "\n"
          ]
        }
      ]
    },
    {
      "cell_type": "code",
      "source": [
        "#===========================CONSTRUCTING THE CONFUSION MATRIX=============================#\n",
        "def plot_confusion_matrix(cm, classes, normalize=True, title='Confusion matrix', cmap=plt.cm.Greens):\n",
        "    \n",
        "    plt.figure(figsize=(10,10))\n",
        "    plt.imshow(cm, interpolation='nearest', cmap=cmap)\n",
        "    plt.title(title)\n",
        "    plt.colorbar()\n",
        "    tick_marks = np.arange(len(classes))\n",
        "    plt.xticks(tick_marks, classes, rotation=45)\n",
        "    plt.yticks(tick_marks, classes)\n",
        "    if normalize:\n",
        "        cm = cm.astype('float') / cm.sum(axis=1)[:, np.newaxis]\n",
        "        cm = np.around(cm, decimals=2)\n",
        "        cm[np.isnan(cm)] = 0.0\n",
        "    thresh = cm.max() / 2.\n",
        "    for i, j in itertools.product(range(cm.shape[0]), range(cm.shape[1])):\n",
        "        plt.text(j, i, cm[i, j],\n",
        "                 horizontalalignment=\"center\",\n",
        "                 color=\"white\" if cm[i, j] > thresh else \"black\")\n",
        "    plt.tight_layout()\n",
        "    plt.ylabel('True label')\n",
        "    plt.xlabel('Predicted label')\n",
        "cm = confusion_matrix(Y_test, y_pred_RFC)\n",
        "target_names = [\"Human Detected\", \"Human Not Detected\"]\n",
        "plot_confusion_matrix(cm, target_names, normalize=False, title='Confusion Matrix')\n",
        "accuracy_score(Y_test, y_pred_RFC)"
      ],
      "metadata": {
        "colab": {
          "base_uri": "https://localhost:8080/",
          "height": 714
        },
        "id": "a15SlINyuN0h",
        "outputId": "1f7ba305-1a7a-49b9-a908-b0542cedeb53"
      },
      "execution_count": null,
      "outputs": [
        {
          "output_type": "execute_result",
          "data": {
            "text/plain": [
              "0.9675324675324676"
            ]
          },
          "metadata": {},
          "execution_count": 27
        },
        {
          "output_type": "display_data",
          "data": {
            "text/plain": [
              "<Figure size 720x720 with 2 Axes>"
            ],
            "image/png": "[encoded data removed]"
          },
          "metadata": {
            "needs_background": "light"
          }
        }
      ]
    }
  ]
}