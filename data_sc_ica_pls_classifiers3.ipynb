{
  "nbformat": 4,
  "nbformat_minor": 0,
  "metadata": {
    "colab": {
      "provenance": [],
      "collapsed_sections": []
    },
    "kernelspec": {
      "name": "python3",
      "display_name": "Python 3"
    },
    "language_info": {
      "name": "python"
    }
  },
  "cells": [
    {
      "cell_type": "code",
      "execution_count": 1,
      "metadata": {
        "id": "yQ4CS_DzPfF_",
        "colab": {
          "base_uri": "https://localhost:8080/"
        },
        "outputId": "06d96d6a-68d6-48c1-9efc-6cf58984691f"
      },
      "outputs": [
        {
          "output_type": "stream",
          "name": "stdout",
          "text": [
            "Looking in indexes: https://pypi.org/simple, https://us-python.pkg.dev/colab-wheels/public/simple/\n",
            "Requirement already satisfied: tqdm in /usr/local/lib/python3.7/dist-packages (4.64.1)\n",
            "Collecting update_checker\n",
            "  Downloading update_checker-0.18.0-py3-none-any.whl (7.0 kB)\n",
            "Requirement already satisfied: requests>=2.3.0 in /usr/local/lib/python3.7/dist-packages (from update_checker) (2.23.0)\n",
            "Requirement already satisfied: certifi>=2017.4.17 in /usr/local/lib/python3.7/dist-packages (from requests>=2.3.0->update_checker) (2022.6.15)\n",
            "Requirement already satisfied: idna<3,>=2.5 in /usr/local/lib/python3.7/dist-packages (from requests>=2.3.0->update_checker) (2.10)\n",
            "Requirement already satisfied: chardet<4,>=3.0.2 in /usr/local/lib/python3.7/dist-packages (from requests>=2.3.0->update_checker) (3.0.4)\n",
            "Requirement already satisfied: urllib3!=1.25.0,!=1.25.1,<1.26,>=1.21.1 in /usr/local/lib/python3.7/dist-packages (from requests>=2.3.0->update_checker) (1.24.3)\n",
            "Installing collected packages: update-checker\n",
            "Successfully installed update-checker-0.18.0\n",
            "Looking in indexes: https://pypi.org/simple, https://us-python.pkg.dev/colab-wheels/public/simple/\n",
            "Collecting tpot\n",
            "  Downloading TPOT-0.11.7-py3-none-any.whl (87 kB)\n",
            "\u001b[K     |████████████████████████████████| 87 kB 3.2 MB/s \n",
            "\u001b[?25hRequirement already satisfied: numpy>=1.16.3 in /usr/local/lib/python3.7/dist-packages (from tpot) (1.21.6)\n",
            "Collecting xgboost>=1.1.0\n",
            "  Downloading xgboost-1.6.2-py3-none-manylinux2014_x86_64.whl (255.9 MB)\n",
            "\u001b[K     |████████████████████████████████| 255.9 MB 39 kB/s \n",
            "\u001b[?25hRequirement already satisfied: scipy>=1.3.1 in /usr/local/lib/python3.7/dist-packages (from tpot) (1.7.3)\n",
            "Requirement already satisfied: scikit-learn>=0.22.0 in /usr/local/lib/python3.7/dist-packages (from tpot) (1.0.2)\n",
            "Requirement already satisfied: update-checker>=0.16 in /usr/local/lib/python3.7/dist-packages (from tpot) (0.18.0)\n",
            "Requirement already satisfied: tqdm>=4.36.1 in /usr/local/lib/python3.7/dist-packages (from tpot) (4.64.1)\n",
            "Requirement already satisfied: pandas>=0.24.2 in /usr/local/lib/python3.7/dist-packages (from tpot) (1.3.5)\n",
            "Collecting deap>=1.2\n",
            "  Downloading deap-1.3.3-cp37-cp37m-manylinux_2_5_x86_64.manylinux1_x86_64.manylinux_2_17_x86_64.manylinux2014_x86_64.whl (139 kB)\n",
            "\u001b[K     |████████████████████████████████| 139 kB 37.9 MB/s \n",
            "\u001b[?25hCollecting stopit>=1.1.1\n",
            "  Downloading stopit-1.1.2.tar.gz (18 kB)\n",
            "Requirement already satisfied: joblib>=0.13.2 in /usr/local/lib/python3.7/dist-packages (from tpot) (1.1.0)\n",
            "Requirement already satisfied: pytz>=2017.3 in /usr/local/lib/python3.7/dist-packages (from pandas>=0.24.2->tpot) (2022.2.1)\n",
            "Requirement already satisfied: python-dateutil>=2.7.3 in /usr/local/lib/python3.7/dist-packages (from pandas>=0.24.2->tpot) (2.8.2)\n",
            "Requirement already satisfied: six>=1.5 in /usr/local/lib/python3.7/dist-packages (from python-dateutil>=2.7.3->pandas>=0.24.2->tpot) (1.15.0)\n",
            "Requirement already satisfied: threadpoolctl>=2.0.0 in /usr/local/lib/python3.7/dist-packages (from scikit-learn>=0.22.0->tpot) (3.1.0)\n",
            "Requirement already satisfied: requests>=2.3.0 in /usr/local/lib/python3.7/dist-packages (from update-checker>=0.16->tpot) (2.23.0)\n",
            "Requirement already satisfied: chardet<4,>=3.0.2 in /usr/local/lib/python3.7/dist-packages (from requests>=2.3.0->update-checker>=0.16->tpot) (3.0.4)\n",
            "Requirement already satisfied: certifi>=2017.4.17 in /usr/local/lib/python3.7/dist-packages (from requests>=2.3.0->update-checker>=0.16->tpot) (2022.6.15)\n",
            "Requirement already satisfied: idna<3,>=2.5 in /usr/local/lib/python3.7/dist-packages (from requests>=2.3.0->update-checker>=0.16->tpot) (2.10)\n",
            "Requirement already satisfied: urllib3!=1.25.0,!=1.25.1,<1.26,>=1.21.1 in /usr/local/lib/python3.7/dist-packages (from requests>=2.3.0->update-checker>=0.16->tpot) (1.24.3)\n",
            "Building wheels for collected packages: stopit\n",
            "  Building wheel for stopit (setup.py) ... \u001b[?25l\u001b[?25hdone\n",
            "  Created wheel for stopit: filename=stopit-1.1.2-py3-none-any.whl size=11956 sha256=3a0329332dbfe0275a0523a891f7293a2b5b7d2a5fcdb8178f455650ec86cf87\n",
            "  Stored in directory: /root/.cache/pip/wheels/e2/d2/79/eaf81edb391e27c87f51b8ef901ecc85a5363dc96b8b8d71e3\n",
            "Successfully built stopit\n",
            "Installing collected packages: xgboost, stopit, deap, tpot\n",
            "  Attempting uninstall: xgboost\n",
            "    Found existing installation: xgboost 0.90\n",
            "    Uninstalling xgboost-0.90:\n",
            "      Successfully uninstalled xgboost-0.90\n",
            "Successfully installed deap-1.3.3 stopit-1.1.2 tpot-0.11.7 xgboost-1.6.2\n"
          ]
        }
      ],
      "source": [
        "! pip install tqdm update_checker tqdm\n",
        "! pip install tpot\n",
        "import matplotlib\n",
        "import matplotlib.pyplot as plt\n",
        "import pandas as pd\n",
        "import numpy as np\n",
        "import seaborn as sns\n",
        "import sklearn\n",
        "import imblearn\n",
        "from sklearn.preprocessing import StandardScaler, MinMaxScaler\n",
        "from sklearn.preprocessing import LabelEncoder, MultiLabelBinarizer, LabelBinarizer\n",
        "from sklearn.ensemble import RandomForestClassifier\n",
        "from sklearn.feature_selection import RFE\n",
        "import itertools\n",
        "from sklearn.model_selection import train_test_split\n",
        "from tpot import TPOTRegressor\n",
        "from sklearn.metrics import classification_report, confusion_matrix, accuracy_score, roc_auc_score, roc_curve\n",
        "from sklearn.neighbors import KNeighborsClassifier\n",
        "from sklearn.tree import DecisionTreeClassifier\n",
        "from sklearn.manifold import LocallyLinearEmbedding\n",
        "from sklearn.decomposition import FastICA\n",
        "from sklearn.svm import SVC\n",
        "from sklearn.cross_decomposition import PLSRegression\n",
        "from sklearn.manifold import MDS\n",
        "import os\n",
        "from PIL import Image\n",
        "from PIL import UnidentifiedImageError\n",
        "import keras"
      ]
    },
    {
      "cell_type": "code",
      "source": [],
      "metadata": {
        "id": "5Ycf_1fPOhTL"
      },
      "execution_count": null,
      "outputs": []
    },
    {
      "cell_type": "code",
      "source": [
        "#===============importing the dataset from the directory========================#\n",
        "horizonal_mb = os.listdir(r'/content/drive/MyDrive/images/horizonal_mb')\n",
        "resizeimage = os.listdir(r'/content/drive/MyDrive/images/resizeimage')\n",
        "vertical_mb = os.listdir(r'/content/drive/MyDrive/images/vertical_mb')\n",
        "horizonal_mb"
      ],
      "metadata": {
        "colab": {
          "base_uri": "https://localhost:8080/"
        },
        "id": "SH_D7N5YaRa7",
        "outputId": "e94d0c3a-cdda-4297-f202-b92625a389e6"
      },
      "execution_count": 2,
      "outputs": [
        {
          "output_type": "execute_result",
          "data": {
            "text/plain": [
              "['120.jpg',\n",
              " '112.jpg',\n",
              " '115.jpg',\n",
              " '123.jpg',\n",
              " '124.jpg',\n",
              " '130.jpg',\n",
              " '135.jpg',\n",
              " '101.jpg',\n",
              " '105.jpg',\n",
              " '106.jpg',\n",
              " '133.jpg',\n",
              " '134.jpg',\n",
              " '109.jpg',\n",
              " '104.jpg',\n",
              " '125.jpg',\n",
              " '122.jpg',\n",
              " '111.jpg',\n",
              " '1.jpg',\n",
              " '13.jpg',\n",
              " '100.jpg',\n",
              " '137.jpg',\n",
              " '110.jpg',\n",
              " '121.jpg',\n",
              " '138.jpg',\n",
              " '102.jpg',\n",
              " '11.jpg',\n",
              " '12.jpg',\n",
              " '10.jpg',\n",
              " '113.jpg',\n",
              " '103.jpg',\n",
              " '116.jpg',\n",
              " '119.jpg',\n",
              " '114.jpg',\n",
              " '132.jpg',\n",
              " '128.jpg',\n",
              " '136.jpg',\n",
              " '0.jpg',\n",
              " '127.jpg',\n",
              " '107.jpg',\n",
              " '126.jpg',\n",
              " '108.jpg',\n",
              " '131.jpg',\n",
              " '118.jpg',\n",
              " '117.jpg',\n",
              " '129.jpg',\n",
              " '157.jpg',\n",
              " '150.jpg',\n",
              " '14.jpg',\n",
              " '153.jpg',\n",
              " '159.jpg',\n",
              " '144.jpg',\n",
              " '151.jpg',\n",
              " '16.jpg',\n",
              " '155.jpg',\n",
              " '161.jpg',\n",
              " '156.jpg',\n",
              " '158.jpg',\n",
              " '160.jpg',\n",
              " '143.jpg',\n",
              " '140.jpg',\n",
              " '141.jpg',\n",
              " '15.jpg',\n",
              " '154.jpg',\n",
              " '146.jpg',\n",
              " '142.jpg',\n",
              " '145.jpg',\n",
              " '162.jpg',\n",
              " '152.jpg',\n",
              " '149.jpg',\n",
              " '139.jpg',\n",
              " '148.jpg',\n",
              " '163.jpg',\n",
              " '147.jpg',\n",
              " '27.jpg',\n",
              " '165.jpg',\n",
              " '33.jpg',\n",
              " '168.jpg',\n",
              " '174.jpg',\n",
              " '30.jpg',\n",
              " '184.jpg',\n",
              " '21.jpg',\n",
              " '172.jpg',\n",
              " '3.jpg',\n",
              " '179.jpg',\n",
              " '177.jpg',\n",
              " '169.jpg',\n",
              " '23.jpg',\n",
              " '183.jpg',\n",
              " '173.jpg',\n",
              " '181.jpg',\n",
              " '24.jpg',\n",
              " '164.jpg',\n",
              " '32.jpg',\n",
              " '25.jpg',\n",
              " '182.jpg',\n",
              " '180.jpg',\n",
              " '178.jpg',\n",
              " '166.jpg',\n",
              " '19.jpg',\n",
              " '29.jpg',\n",
              " '18.jpg',\n",
              " '26.jpg',\n",
              " '175.jpg',\n",
              " '17.jpg',\n",
              " '22.jpg',\n",
              " '31.jpg',\n",
              " '20.jpg',\n",
              " '28.jpg',\n",
              " '167.jpg',\n",
              " '171.jpg',\n",
              " '2.jpg',\n",
              " '170.jpg',\n",
              " '176.jpg',\n",
              " '57.jpg',\n",
              " '35.jpg',\n",
              " '61.jpg',\n",
              " '45.jpg',\n",
              " '44.jpg',\n",
              " '53.jpg',\n",
              " '48.jpg',\n",
              " '66.jpg',\n",
              " '68.jpg',\n",
              " '58.jpg',\n",
              " '64.jpg',\n",
              " '49.jpg',\n",
              " '5.jpg',\n",
              " '36.jpg',\n",
              " '51.jpg',\n",
              " '6.jpg',\n",
              " '40.jpg',\n",
              " '50.jpg',\n",
              " '46.jpg',\n",
              " '39.jpg',\n",
              " '56.jpg',\n",
              " '55.jpg',\n",
              " '67.jpg',\n",
              " '52.jpg',\n",
              " '60.jpg',\n",
              " '47.jpg',\n",
              " '43.jpg',\n",
              " '65.jpg',\n",
              " '34.jpg',\n",
              " '63.jpg',\n",
              " '59.jpg',\n",
              " '4.jpg',\n",
              " '37.jpg',\n",
              " '42.jpg',\n",
              " '38.jpg',\n",
              " '62.jpg',\n",
              " '54.jpg',\n",
              " '41.jpg',\n",
              " '87.jpg',\n",
              " '74.jpg',\n",
              " '86.jpg',\n",
              " '92.jpg',\n",
              " '70.jpg',\n",
              " '98.jpg',\n",
              " '99.jpg',\n",
              " '83.jpg',\n",
              " '89.jpg',\n",
              " '77.jpg',\n",
              " '80.jpg',\n",
              " '84.jpg',\n",
              " '91.jpg',\n",
              " '76.jpg',\n",
              " '85.jpg',\n",
              " '88.jpg',\n",
              " '96.jpg',\n",
              " '94.jpg',\n",
              " '71.jpg',\n",
              " '95.jpg',\n",
              " '78.jpg',\n",
              " '73.jpg',\n",
              " '82.jpg',\n",
              " '69.jpg',\n",
              " '93.jpg',\n",
              " '79.jpg',\n",
              " '81.jpg',\n",
              " '72.jpg',\n",
              " '90.jpg',\n",
              " '8.jpg',\n",
              " '97.jpg',\n",
              " '9.jpg',\n",
              " '75.jpg',\n",
              " '7.jpg']"
            ]
          },
          "metadata": {},
          "execution_count": 2
        }
      ]
    },
    {
      "cell_type": "code",
      "source": [
        "img_w, img_h = 225, 225 #setting the image width and height for easy processing\n",
        "X = []\n",
        "y = []\n",
        "\n",
        "for i in horizonal_mb:\n",
        "    try:\n",
        "        img = Image.open(\"/content/drive/MyDrive/images/horizonal_mb/\" + i).convert('RGB')\n",
        "        img = img.resize((img_w,img_h))\n",
        "        X.append(np.asarray(img))\n",
        "        y.append(0)\n",
        "    except UnidentifiedImageError: # it passes an image that wasn't correctly identified\n",
        "        pass\n",
        "    \n",
        "for i in resizeimage:\n",
        "    try:\n",
        "        img = Image.open(\"/content/drive/MyDrive/images/resizeimage/\" + i).convert('RGB')\n",
        "        img = img.resize((img_w,img_h))\n",
        "        X.append(np.asarray(img))\n",
        "        y.append(1)\n",
        "    except UnidentifiedImageError:\n",
        "        pass\n",
        "    \n",
        "for i in vertical_mb:\n",
        "    try:\n",
        "        img = Image.open(\"/content/drive/MyDrive/images/vertical_mb/\" + i).convert('RGB')\n",
        "        img = img.resize((img_w,img_h))\n",
        "        X.append(np.asarray(img))\n",
        "        y.append(1)\n",
        "    except UnidentifiedImageError:\n",
        "        pass\n",
        "\n",
        "\n",
        "X = np.asarray(X)\n",
        "y = np.asarray(y)\n",
        "print(X.shape, y.shape)\n",
        "\n",
        "# I resized each image to our manually defined width and height(img_w, img_h)\n",
        "# I also changed the images to an array"
      ],
      "metadata": {
        "colab": {
          "base_uri": "https://localhost:8080/"
        },
        "id": "SuaLCtWsOvR6",
        "outputId": "7899b9f1-9fa9-4cbe-d890-96f9050d67a1"
      },
      "execution_count": 3,
      "outputs": [
        {
          "output_type": "stream",
          "name": "stdout",
          "text": [
            "(555, 225, 225, 3) (555,)\n"
          ]
        }
      ]
    },
    {
      "cell_type": "code",
      "source": [
        "from tensorflow import keras\n",
        "x = X.astype('float32')\n",
        "x /= 255\n",
        "\n",
        "#scaler = MinMaxScaler()\n",
        "#x = scaler.fit_transform(x)\n",
        "\n",
        "num_classes = 3\n",
        "\n",
        "labels = keras.utils.to_categorical(y, num_classes)\n",
        "print(labels[0])"
      ],
      "metadata": {
        "colab": {
          "base_uri": "https://localhost:8080/"
        },
        "id": "xs4YLNfoO3TJ",
        "outputId": "60260137-1489-4536-d3d2-bcc093f76f4a"
      },
      "execution_count": 4,
      "outputs": [
        {
          "output_type": "stream",
          "name": "stdout",
          "text": [
            "[1. 0. 0.]\n"
          ]
        }
      ]
    },
    {
      "cell_type": "code",
      "source": [
        "import csv\n",
        "img_file = pd.concat([x, y], axis=1)\n",
        "# Make image Greyscale\n",
        "\n",
        "img_grey = img_file.convert('L')\n",
        "\n",
        "#img_grey.save('result.png')\n",
        "\n",
        "#img_grey.show()\n",
        "\n",
        "# Save Greyscale values\n",
        "\n",
        "value = np.asarray(img_grey.getdata(), dtype=http://np.int).reshape((img_grey.size[1], img_grey.size[0]))\n",
        "\n",
        "value = value.flatten()\n",
        "\n",
        "print(value)\n",
        "\n",
        "with open(\"img_pixels.csv\", 'a') as f:\n",
        "\n",
        "   writer = csv.writer(f)\n",
        "\n",
        "   writer.writerow(value)"
      ],
      "metadata": {
        "id": "o1E-ia28PROl"
      },
      "execution_count": null,
      "outputs": []
    },
    {
      "cell_type": "code",
      "source": [
        "scaler = StandardScaler()\n",
        "x_sc = scaler.fit_transform(x)"
      ],
      "metadata": {
        "id": "hESikZJ0aomw"
      },
      "execution_count": null,
      "outputs": []
    },
    {
      "cell_type": "code",
      "source": [
        "# = LocallyLinearEmbedding()\n",
        "#train_x = scale.fit_transform(train_x)"
      ],
      "metadata": {
        "id": "o2hnIl0TSIzt"
      },
      "execution_count": null,
      "outputs": []
    },
    {
      "cell_type": "code",
      "source": [
        "ica = FastICA(n_components=7, \n",
        "              max_iter=50, \n",
        "              random_state=100)\n",
        "x_sc_ica = ica.fit_transform(x_sc)"
      ],
      "metadata": {
        "id": "7v0N2G2ISg2Y"
      },
      "execution_count": null,
      "outputs": []
    },
    {
      "cell_type": "code",
      "source": [
        "pls = PLSRegression(n_components=5)\n",
        "pls.fit(x_sc_ica, y)"
      ],
      "metadata": {
        "colab": {
          "base_uri": "https://localhost:8080/"
        },
        "id": "JA7czh65S3Z_",
        "outputId": "7269ac6d-a084-4881-94e9-82580219a5a1"
      },
      "execution_count": null,
      "outputs": [
        {
          "output_type": "execute_result",
          "data": {
            "text/plain": [
              "PLSRegression(n_components=5)"
            ]
          },
          "metadata": {},
          "execution_count": 35
        }
      ]
    },
    {
      "cell_type": "code",
      "source": [
        "X_train,X_test,Y_train,Y_test = train_test_split(x_sc_ica, y, train_size=0.60, random_state=2)\n",
        "input_shape = [X_train.shape[1]]"
      ],
      "metadata": {
        "id": "6Li7Yr6YS8Rm"
      },
      "execution_count": null,
      "outputs": []
    },
    {
      "cell_type": "code",
      "source": [
        "model_svm = SVC(random_state=1)\n",
        "model_svm.fit(X_train, Y_train)\n",
        "y_pred_svm = model_svm.predict(X_test)\n",
        "print(classification_report(Y_test, y_pred_svm))"
      ],
      "metadata": {
        "colab": {
          "base_uri": "https://localhost:8080/"
        },
        "id": "46MvSP4uVyBv",
        "outputId": "aeb866b7-f338-45ea-e841-b9e16edd8cf1"
      },
      "execution_count": null,
      "outputs": [
        {
          "output_type": "stream",
          "name": "stdout",
          "text": [
            "              precision    recall  f1-score   support\n",
            "\n",
            "           0       0.89      0.89      0.89       218\n",
            "           1       0.88      0.88      0.88       192\n",
            "\n",
            "    accuracy                           0.89       410\n",
            "   macro avg       0.88      0.89      0.88       410\n",
            "weighted avg       0.89      0.89      0.89       410\n",
            "\n"
          ]
        }
      ]
    },
    {
      "cell_type": "code",
      "source": [
        "#===========================CONSTRUCTING THE CONFUSION MATRIX=============================#\n",
        "def plot_confusion_matrix(cm, classes, normalize=True, title='Confusion matrix', cmap=plt.cm.Reds):\n",
        "    \n",
        "    plt.figure(figsize=(10,10))\n",
        "    plt.imshow(cm, interpolation='nearest', cmap=cmap)\n",
        "    plt.title(title)\n",
        "    plt.colorbar()\n",
        "    tick_marks = np.arange(len(classes))\n",
        "    plt.xticks(tick_marks, classes, rotation=45)\n",
        "    plt.yticks(tick_marks, classes)\n",
        "    if normalize:\n",
        "        cm = cm.astype('float') / cm.sum(axis=1)[:, np.newaxis]\n",
        "        cm = np.around(cm, decimals=2)\n",
        "        cm[np.isnan(cm)] = 0.0\n",
        "    thresh = cm.max() / 2.\n",
        "    for i, j in itertools.product(range(cm.shape[0]), range(cm.shape[1])):\n",
        "        plt.text(j, i, cm[i, j],\n",
        "                 horizontalalignment=\"center\",\n",
        "                 color=\"white\" if cm[i, j] > thresh else \"black\")\n",
        "    plt.tight_layout()\n",
        "    plt.ylabel('True label')\n",
        "    plt.xlabel('Predicted label')\n",
        "cm = confusion_matrix(Y_test, y_pred_svm)\n",
        "target_names = [\"Human Detected\", \"Human Not Detected\"]\n",
        "plot_confusion_matrix(cm, target_names, normalize=False, title='Confusion Matrix')\n",
        "accuracy_score(Y_test, y_pred_svm)"
      ],
      "metadata": {
        "colab": {
          "base_uri": "https://localhost:8080/",
          "height": 714
        },
        "id": "cicYtAzgbKqN",
        "outputId": "ad5cded4-da7d-42db-8c23-cea81e13fc02"
      },
      "execution_count": null,
      "outputs": [
        {
          "output_type": "execute_result",
          "data": {
            "text/plain": [
              "0.8853658536585366"
            ]
          },
          "metadata": {},
          "execution_count": 38
        },
        {
          "output_type": "display_data",
          "data": {
            "text/plain": [
              "<Figure size 720x720 with 2 Axes>"
            ],
            "image/png": "[encoded data removed]"
          },
          "metadata": {
            "needs_background": "light"
          }
        }
      ]
    },
    {
      "cell_type": "code",
      "source": [
        "#KNN model\n",
        "\n",
        "model_KNN = KNeighborsClassifier()\n",
        "model_KNN.fit(X_train, Y_train)\n",
        "y_pred_KNN = model_KNN.predict(X_test)\n",
        "print(classification_report(Y_test, y_pred_KNN))"
      ],
      "metadata": {
        "colab": {
          "base_uri": "https://localhost:8080/"
        },
        "id": "c3AH_yqyV16c",
        "outputId": "e7fc1b62-bc71-4808-b055-187a73f424b8"
      },
      "execution_count": null,
      "outputs": [
        {
          "output_type": "stream",
          "name": "stdout",
          "text": [
            "              precision    recall  f1-score   support\n",
            "\n",
            "           0       0.86      0.81      0.83       218\n",
            "           1       0.80      0.85      0.82       192\n",
            "\n",
            "    accuracy                           0.83       410\n",
            "   macro avg       0.83      0.83      0.83       410\n",
            "weighted avg       0.83      0.83      0.83       410\n",
            "\n"
          ]
        }
      ]
    },
    {
      "cell_type": "code",
      "source": [
        "#===========================CONSTRUCTING THE CONFUSION MATRIX=============================#\n",
        "def plot_confusion_matrix(cm, classes, normalize=True, title='Confusion matrix', cmap=plt.cm.Greens):\n",
        "    \n",
        "    plt.figure(figsize=(10,10))\n",
        "    plt.imshow(cm, interpolation='nearest', cmap=cmap)\n",
        "    plt.title(title)\n",
        "    plt.colorbar()\n",
        "    tick_marks = np.arange(len(classes))\n",
        "    plt.xticks(tick_marks, classes, rotation=45)\n",
        "    plt.yticks(tick_marks, classes)\n",
        "    if normalize:\n",
        "        cm = cm.astype('float') / cm.sum(axis=1)[:, np.newaxis]\n",
        "        cm = np.around(cm, decimals=2)\n",
        "        cm[np.isnan(cm)] = 0.0\n",
        "    thresh = cm.max() / 2.\n",
        "    for i, j in itertools.product(range(cm.shape[0]), range(cm.shape[1])):\n",
        "        plt.text(j, i, cm[i, j],\n",
        "                 horizontalalignment=\"center\",\n",
        "                 color=\"white\" if cm[i, j] > thresh else \"black\")\n",
        "    plt.tight_layout()\n",
        "    plt.ylabel('True label')\n",
        "    plt.xlabel('Predicted label')\n",
        "cm = confusion_matrix(Y_test, y_pred_KNN)\n",
        "target_names = [\"Human Detected\", \"Human Not Detected\"]\n",
        "plot_confusion_matrix(cm, target_names, normalize=False, title='Confusion Matrix')\n",
        "accuracy_score(Y_test, y_pred_KNN)"
      ],
      "metadata": {
        "colab": {
          "base_uri": "https://localhost:8080/",
          "height": 714
        },
        "id": "UbaVyTvqbf7O",
        "outputId": "5cf95dd2-7590-43eb-f3a8-502eac2ba2fd"
      },
      "execution_count": null,
      "outputs": [
        {
          "output_type": "execute_result",
          "data": {
            "text/plain": [
              "0.8268292682926829"
            ]
          },
          "metadata": {},
          "execution_count": 40
        },
        {
          "output_type": "display_data",
          "data": {
            "text/plain": [
              "<Figure size 720x720 with 2 Axes>"
            ],
            "image/png": "[encoded data removed]"
          },
          "metadata": {
            "needs_background": "light"
          }
        }
      ]
    },
    {
      "cell_type": "code",
      "source": [
        "#RandomForestClassifier(ensemble) model\n",
        "\n",
        "model_RFC = RandomForestClassifier(random_state = 1)\n",
        "model_RFC.fit(X_train, Y_train)\n",
        "y_pred_RFC = model_RFC.predict(X_test)\n",
        "print(classification_report(Y_test, y_pred_RFC))"
      ],
      "metadata": {
        "colab": {
          "base_uri": "https://localhost:8080/"
        },
        "id": "kUCQOLXMcY5v",
        "outputId": "cd281107-e613-45bc-df8c-655f29ba7458"
      },
      "execution_count": null,
      "outputs": [
        {
          "output_type": "stream",
          "name": "stdout",
          "text": [
            "              precision    recall  f1-score   support\n",
            "\n",
            "           0       0.96      0.96      0.96       218\n",
            "           1       0.96      0.95      0.96       192\n",
            "\n",
            "    accuracy                           0.96       410\n",
            "   macro avg       0.96      0.96      0.96       410\n",
            "weighted avg       0.96      0.96      0.96       410\n",
            "\n"
          ]
        }
      ]
    },
    {
      "cell_type": "code",
      "source": [
        "#===========================CONSTRUCTING THE CONFUSION MATRIX=============================#\n",
        "def plot_confusion_matrix(cm, classes, normalize=True, title='Confusion matrix', cmap=plt.cm.Greens):\n",
        "    \n",
        "    plt.figure(figsize=(10,10))\n",
        "    plt.imshow(cm, interpolation='nearest', cmap=cmap)\n",
        "    plt.title(title)\n",
        "    plt.colorbar()\n",
        "    tick_marks = np.arange(len(classes))\n",
        "    plt.xticks(tick_marks, classes, rotation=45)\n",
        "    plt.yticks(tick_marks, classes)\n",
        "    if normalize:\n",
        "        cm = cm.astype('float') / cm.sum(axis=1)[:, np.newaxis]\n",
        "        cm = np.around(cm, decimals=2)\n",
        "        cm[np.isnan(cm)] = 0.0\n",
        "    thresh = cm.max() / 2.\n",
        "    for i, j in itertools.product(range(cm.shape[0]), range(cm.shape[1])):\n",
        "        plt.text(j, i, cm[i, j],\n",
        "                 horizontalalignment=\"center\",\n",
        "                 color=\"white\" if cm[i, j] > thresh else \"black\")\n",
        "    plt.tight_layout()\n",
        "    plt.ylabel('True label')\n",
        "    plt.xlabel('Predicted label')\n",
        "cm = confusion_matrix(Y_test, y_pred_RFC)\n",
        "target_names = [\"Human Detected\", \"Human Not Detected\"]\n",
        "plot_confusion_matrix(cm, target_names, normalize=False, title='Confusion Matrix')\n",
        "accuracy_score(Y_test, y_pred_RFC)"
      ],
      "metadata": {
        "colab": {
          "base_uri": "https://localhost:8080/",
          "height": 714
        },
        "id": "2lYkWBTsceV7",
        "outputId": "2b17d802-3609-48ce-cfa7-23feab42c42d"
      },
      "execution_count": null,
      "outputs": [
        {
          "output_type": "execute_result",
          "data": {
            "text/plain": [
              "0.9585365853658536"
            ]
          },
          "metadata": {},
          "execution_count": 42
        },
        {
          "output_type": "display_data",
          "data": {
            "text/plain": [
              "<Figure size 720x720 with 2 Axes>"
            ],
            "image/png": "[encoded data removed]"
          },
          "metadata": {
            "needs_background": "light"
          }
        }
      ]
    }
  ]
}